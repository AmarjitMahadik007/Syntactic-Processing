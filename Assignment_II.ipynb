{
  "nbformat": 4,
  "nbformat_minor": 0,
  "metadata": {
    "colab": {
      "provenance": [],
      "authorship_tag": "ABX9TyMxz8BnQN8a16UUruabUmgO",
      "include_colab_link": true
    },
    "kernelspec": {
      "name": "python3",
      "display_name": "Python 3"
    },
    "language_info": {
      "name": "python"
    }
  },
  "cells": [
    {
      "cell_type": "markdown",
      "metadata": {
        "id": "view-in-github",
        "colab_type": "text"
      },
      "source": [
        "<a href=\"https://colab.research.google.com/github/AmarjitMahadik007/Syntactic-Processing/blob/master/Assignment_II.ipynb\" target=\"_parent\"><img src=\"https://colab.research.google.com/assets/colab-badge.svg\" alt=\"Open In Colab\"/></a>"
      ]
    },
    {
      "cell_type": "markdown",
      "source": [
        "# Assignment Task - Identify Entities in Healthcare Data"
      ],
      "metadata": {
        "id": "Luq0wpShTxGk"
      }
    },
    {
      "cell_type": "markdown",
      "source": [
        "## Background:\n",
        "A health tech company called ‘BeHealthy’. They aim to connect the medical communities with millions of patients across the country. BeHealthy has a web platform that allows doctors to list their services and manage patient interactions and provides services for patients such as booking interactions with doctors and ordering medicines online. Here, doctors can easily organise appointments, track past medical records and provide e-prescriptions."
      ],
      "metadata": {
        "id": "ATf4nThHUIbm"
      }
    },
    {
      "cell_type": "markdown",
      "source": [
        "### Problem Statement:\n",
        "\n",
        "BeHealthy require predictive model which can identify disease and treatment from the patients interaction with doctor or ordering medicines online"
      ],
      "metadata": {
        "id": "_XCIszHeU3Be"
      }
    },
    {
      "cell_type": "markdown",
      "source": [
        "### Task Summary:\n",
        "In this assignment, we need to perform the following broad steps:\n",
        "\n",
        "- Process and modify the data into sentence format. This step has to be done for the 'train_sent' and ‘train_label’ datasets and for test datasets as well.\n",
        "- Define the features to build the CRF model.\n",
        "- Apply these features in each sentence of the train and the test dataset to get the feature values.\n",
        "- Define the target variable and then build the CRF model.\n",
        "- Evaluate using a test data set.\n",
        "- Finally create a dictionary in which diseases are keys and treatments are values."
      ],
      "metadata": {
        "id": "659UOo5hVBoD"
      }
    },
    {
      "cell_type": "markdown",
      "source": [
        "### PyCRF:\n",
        "pycrf is a package that typically refers to a Python library for Conditional Random Fields (CRFs), which are a class of statistical modeling methods often applied in pattern recognition and machine learning for structured prediction.\n",
        "\n",
        "### sklearn-crfsuite:\n",
        "sklearn-crfsuite is a library that provides a simple interface for training and using CRFs. It's built on top of python-crfsuite, a Python binding for CRFsuite, which is an implementation of Conditional Random Fields (CRFs). The sklearn-crfsuite library offers compatibility with the scikit-learn library, making it easy to use CRFs within the scikit-learn framework."
      ],
      "metadata": {
        "id": "uM1ZoV4OWivN"
      }
    },
    {
      "cell_type": "code",
      "execution_count": 1,
      "metadata": {
        "colab": {
          "base_uri": "https://localhost:8080/"
        },
        "id": "iHdP1ZHDThzN",
        "outputId": "ea236be4-4265-4f7d-9dbb-5b494276bdfc"
      },
      "outputs": [
        {
          "output_type": "stream",
          "name": "stdout",
          "text": [
            "Collecting pycrf\n",
            "  Downloading pycrf-0.0.1.tar.gz (1.1 kB)\n",
            "  Preparing metadata (setup.py) ... \u001b[?25l\u001b[?25hdone\n",
            "Building wheels for collected packages: pycrf\n",
            "  Building wheel for pycrf (setup.py) ... \u001b[?25l\u001b[?25hdone\n",
            "  Created wheel for pycrf: filename=pycrf-0.0.1-py3-none-any.whl size=1870 sha256=5fab08b012a45845aaa6aeeb37e7c97fac8cd51d33aaf52befd1f857780cd6db\n",
            "  Stored in directory: /root/.cache/pip/wheels/fd/3a/fb/e4d15c9c2b169f43811b23a863ee9717ff3eda5d2301789043\n",
            "Successfully built pycrf\n",
            "Installing collected packages: pycrf\n",
            "Successfully installed pycrf-0.0.1\n",
            "Collecting sklearn-crfsuite\n",
            "  Downloading sklearn_crfsuite-0.5.0-py2.py3-none-any.whl (10 kB)\n",
            "Collecting python-crfsuite>=0.9.7 (from sklearn-crfsuite)\n",
            "  Downloading python_crfsuite-0.9.10-cp310-cp310-manylinux_2_17_x86_64.manylinux2014_x86_64.whl (1.1 MB)\n",
            "\u001b[2K     \u001b[90m━━━━━━━━━━━━━━━━━━━━━━━━━━━━━━━━━━━━━━━━\u001b[0m \u001b[32m1.1/1.1 MB\u001b[0m \u001b[31m6.7 MB/s\u001b[0m eta \u001b[36m0:00:00\u001b[0m\n",
            "\u001b[?25hRequirement already satisfied: scikit-learn>=0.24.0 in /usr/local/lib/python3.10/dist-packages (from sklearn-crfsuite) (1.2.2)\n",
            "Requirement already satisfied: tabulate>=0.4.2 in /usr/local/lib/python3.10/dist-packages (from sklearn-crfsuite) (0.9.0)\n",
            "Requirement already satisfied: tqdm>=2.0 in /usr/local/lib/python3.10/dist-packages (from sklearn-crfsuite) (4.66.4)\n",
            "Requirement already satisfied: numpy>=1.17.3 in /usr/local/lib/python3.10/dist-packages (from scikit-learn>=0.24.0->sklearn-crfsuite) (1.25.2)\n",
            "Requirement already satisfied: scipy>=1.3.2 in /usr/local/lib/python3.10/dist-packages (from scikit-learn>=0.24.0->sklearn-crfsuite) (1.11.4)\n",
            "Requirement already satisfied: joblib>=1.1.1 in /usr/local/lib/python3.10/dist-packages (from scikit-learn>=0.24.0->sklearn-crfsuite) (1.4.2)\n",
            "Requirement already satisfied: threadpoolctl>=2.0.0 in /usr/local/lib/python3.10/dist-packages (from scikit-learn>=0.24.0->sklearn-crfsuite) (3.5.0)\n",
            "Installing collected packages: python-crfsuite, sklearn-crfsuite\n",
            "Successfully installed python-crfsuite-0.9.10 sklearn-crfsuite-0.5.0\n"
          ]
        }
      ],
      "source": [
        "!pip install pycrf\n",
        "!pip install sklearn-crfsuite"
      ]
    },
    {
      "cell_type": "code",
      "source": [
        "# Library Import\n",
        "import pandas as pd\n",
        "import re\n",
        "import spacy\n",
        "import warnings\n",
        "warnings.filterwarnings('ignore')\n",
        "\n",
        "# Import model and metrics\n",
        "from sklearn_crfsuite import CRF, scorers, metrics"
      ],
      "metadata": {
        "id": "PLd3nfWaTotz"
      },
      "execution_count": 2,
      "outputs": []
    },
    {
      "cell_type": "code",
      "source": [
        "with open('train_sent', 'r', encoding='utf-8') as train_sent_file:\n",
        "  train_sentences = train_sent_file.readlines()\n",
        "\n",
        "with open('train_label', 'r', encoding='utf-8') as train_labels_file:\n",
        "  train_labels = train_labels_file.readlines()\n",
        "\n",
        "with open('test_sent', 'r', encoding='utf-8') as test_sent_file:\n",
        "  test_sentences = test_sent_file.readlines()\n",
        "\n",
        "with open('test_label', 'r', encoding='utf-8') as test_labels_file:\n",
        "  test_labels = test_labels_file.readlines()\n"
      ],
      "metadata": {
        "id": "vId0BsQDaLOl"
      },
      "execution_count": 3,
      "outputs": []
    },
    {
      "cell_type": "code",
      "source": [
        "Sent_merged = ''\n",
        "train_sentences_merged = []\n",
        "for i in range(len(train_sentences)):\n",
        "  if train_sentences[i] != '\\n':\n",
        "    Sent_merged += train_sentences[i].strip('\\n')+' '\n",
        "  else:\n",
        "    train_sentences_merged.append(Sent_merged)\n",
        "    Sent_merged = ''"
      ],
      "metadata": {
        "id": "8jse--guarW5"
      },
      "execution_count": 4,
      "outputs": []
    },
    {
      "cell_type": "code",
      "source": [
        "label_merged = ''\n",
        "train_labels_merged = []\n",
        "for i in range(len(train_labels)):\n",
        "  if train_labels[i] != '\\n':\n",
        "    label_merged += train_labels[i].strip('\\n')+' '\n",
        "  else:\n",
        "    train_labels_merged.append(label_merged)\n",
        "    label_merged = ''"
      ],
      "metadata": {
        "id": "7znJlMgfbFIF"
      },
      "execution_count": 5,
      "outputs": []
    },
    {
      "cell_type": "code",
      "source": [
        "Sent_merged = ''\n",
        "test_sentences_merged = []\n",
        "for i in range(len(test_sentences)):\n",
        "  if test_sentences[i] != '\\n':\n",
        "    Sent_merged += test_sentences[i].strip('\\n')+' '\n",
        "  else:\n",
        "    test_sentences_merged.append(Sent_merged)\n",
        "    Sent_merged = ''"
      ],
      "metadata": {
        "id": "RpppcNNQbJ5j"
      },
      "execution_count": 6,
      "outputs": []
    },
    {
      "cell_type": "code",
      "source": [
        "label_merged = ''\n",
        "test_labels_merged = []\n",
        "for i in range(len(test_labels)):\n",
        "  if test_labels[i] != '\\n':\n",
        "    label_merged += test_labels[i].strip('\\n')+' '\n",
        "  else:\n",
        "    test_labels_merged.append(label_merged)\n",
        "    label_merged = ''"
      ],
      "metadata": {
        "id": "T4NuebZGbN9b"
      },
      "execution_count": 7,
      "outputs": []
    },
    {
      "cell_type": "markdown",
      "source": [
        "Count the number of sentences in the processed train and test dataset"
      ],
      "metadata": {
        "id": "a04P136DbZVf"
      }
    },
    {
      "cell_type": "code",
      "source": [
        "print(len(train_sentences_merged))\n",
        "print(len(test_sentences_merged))"
      ],
      "metadata": {
        "colab": {
          "base_uri": "https://localhost:8080/"
        },
        "id": "WDW22gaZbbeL",
        "outputId": "f12224ec-7ea7-42a7-abac-104606e52e26"
      },
      "execution_count": 8,
      "outputs": [
        {
          "output_type": "stream",
          "name": "stdout",
          "text": [
            "2599\n",
            "1056\n"
          ]
        }
      ]
    },
    {
      "cell_type": "markdown",
      "source": [],
      "metadata": {
        "id": "xo6j1xJSbfyw"
      }
    },
    {
      "cell_type": "code",
      "source": [
        "# Import spacy small library to find medical related entities\n",
        "nlp= spacy.load(\"en_core_web_sm\")"
      ],
      "metadata": {
        "id": "X3nIRhTeb0W1"
      },
      "execution_count": 9,
      "outputs": []
    },
    {
      "cell_type": "code",
      "source": [
        "# Dataframe of POS tagging,Lemma word and Label for Train and test sentence\n",
        "train_df = pd.DataFrame(columns=['sentence','word','lemma','pos','label'])\n",
        "test_df = pd.DataFrame(columns=['sentence','word','lemma','pos','label'])"
      ],
      "metadata": {
        "id": "6rXdDt3Bb1MR"
      },
      "execution_count": 10,
      "outputs": []
    },
    {
      "cell_type": "code",
      "source": [
        "#train datframe\n",
        "\n",
        "i=0 #Sentence count\n",
        "j=0 #Iteration count\n",
        "\n",
        "for sent,label in zip(train_sentences_merged,train_labels_merged):\n",
        "    i+=1\n",
        "    for s,l in zip(sent.split(),label.split()):\n",
        "        doc = nlp(s)\n",
        "        for tok in doc:\n",
        "            train_df.loc[j,['sentence','word','lemma','pos','label']] = [i,tok.text,tok.lemma_,tok.pos_,l]\n",
        "            j+=1"
      ],
      "metadata": {
        "id": "tSPVGOoVb5D3"
      },
      "execution_count": 11,
      "outputs": []
    },
    {
      "cell_type": "code",
      "source": [
        "#test datframe\n",
        "\n",
        "i=0 #Sentence count\n",
        "j=0 #Iteration count\n",
        "\n",
        "for sent,label in zip(test_sentences_merged,test_labels_merged):\n",
        "    i+=1\n",
        "    for s,l in zip(sent.split(),label.split()):\n",
        "        doc = nlp(s)\n",
        "        for tok in doc:\n",
        "            test_df.loc[j,['sentence','word','lemma','pos','label']] = [i,tok.text,tok.lemma_,tok.pos_,l]\n",
        "            j+=1"
      ],
      "metadata": {
        "id": "6SsJLmhLd3Rw"
      },
      "execution_count": 12,
      "outputs": []
    },
    {
      "cell_type": "code",
      "source": [
        "# Word and it's frequency for word which contains NOUN or PROPN as POS tagging\n",
        "freq_df = pd.DataFrame()\n",
        "freq_df = pd.concat((train_df,test_df),axis=0)"
      ],
      "metadata": {
        "id": "YajJDmf4eBvw"
      },
      "execution_count": 13,
      "outputs": []
    },
    {
      "cell_type": "code",
      "source": [
        "# Resetting index\n",
        "freq_df.reset_index(inplace=True,drop=True)"
      ],
      "metadata": {
        "id": "tZVuP79tea6T"
      },
      "execution_count": 14,
      "outputs": []
    },
    {
      "cell_type": "code",
      "source": [
        "# Top 25 most frequency values for Train and Test related dataset words\n",
        "freq_df[(freq_df['pos'] == 'NOUN') | ((freq_df['pos'] == 'PROPN'))]['word'].value_counts()[:25]"
      ],
      "metadata": {
        "colab": {
          "base_uri": "https://localhost:8080/"
        },
        "id": "QtckU4c7efKH",
        "outputId": "f8003048-1e7e-4ffd-869c-b6a2ce4b59f4"
      },
      "execution_count": 15,
      "outputs": [
        {
          "output_type": "execute_result",
          "data": {
            "text/plain": [
              "word\n",
              "patients        492\n",
              "treatment       281\n",
              "cancer          200\n",
              "therapy         175\n",
              "disease         143\n",
              "cell            140\n",
              "lung            116\n",
              "group            94\n",
              "gene             88\n",
              "chemotherapy     88\n",
              "effects          85\n",
              "results          79\n",
              "women            77\n",
              "patient          75\n",
              "TO_SEE           75\n",
              "surgery          71\n",
              "risk             71\n",
              "cases            71\n",
              "analysis         70\n",
              "human            67\n",
              "rate             67\n",
              "response         66\n",
              "survival         65\n",
              "children         64\n",
              "effect           64\n",
              "Name: count, dtype: int64"
            ]
          },
          "metadata": {},
          "execution_count": 15
        }
      ]
    },
    {
      "cell_type": "code",
      "source": [
        "# Top 25 most frequency values for Train and Test related lemma words\n",
        "freq_df[(freq_df['pos'] == 'NOUN') | ((freq_df['pos'] == 'PROPN'))]['lemma'].value_counts()[:25]"
      ],
      "metadata": {
        "colab": {
          "base_uri": "https://localhost:8080/"
        },
        "id": "PhRfrbxkefUe",
        "outputId": "2f3b95d9-0165-48db-8b79-2c3dbf154230"
      },
      "execution_count": 16,
      "outputs": [
        {
          "output_type": "execute_result",
          "data": {
            "text/plain": [
              "lemma\n",
              "patient         587\n",
              "treatment       316\n",
              "cancer          226\n",
              "cell            203\n",
              "therapy         182\n",
              "disease         172\n",
              "effect          163\n",
              "case            132\n",
              "group           128\n",
              "lung            120\n",
              "result          118\n",
              "gene            112\n",
              "year            105\n",
              "rate            102\n",
              "trial            91\n",
              "chemotherapy     91\n",
              "woman            89\n",
              "analysis         86\n",
              "protein          82\n",
              "response         81\n",
              "risk             78\n",
              "child            78\n",
              "human            77\n",
              "TO_SEE           75\n",
              "mutation         75\n",
              "Name: count, dtype: int64"
            ]
          },
          "metadata": {},
          "execution_count": 16
        }
      ]
    },
    {
      "cell_type": "code",
      "source": [
        "# Dataframe (Sentence, word, POS) visualisation\n",
        "train_df.head(90)"
      ],
      "metadata": {
        "colab": {
          "base_uri": "https://localhost:8080/",
          "height": 423
        },
        "id": "PwsNbMlVejJl",
        "outputId": "9e72980f-bc8b-43bf-d5b4-4e70184526ac"
      },
      "execution_count": 23,
      "outputs": [
        {
          "output_type": "execute_result",
          "data": {
            "text/plain": [
              "   sentence       word    lemma    pos label\n",
              "0         1        All      all   PRON     O\n",
              "1         1       live     live   VERB     O\n",
              "2         1     births    birth   NOUN     O\n",
              "3         1          >        >  PUNCT     O\n",
              "4         1         or       or  CCONJ     O\n",
              "..      ...        ...      ...    ...   ...\n",
              "85        4        The      the   PRON     O\n",
              "86        4          `        `  PUNCT     O\n",
              "87        4          `        `  PUNCT     O\n",
              "88        4  corrected  correct   VERB     O\n",
              "89        4         ''       ''  PUNCT     O\n",
              "\n",
              "[90 rows x 5 columns]"
            ],
            "text/html": [
              "\n",
              "  <div id=\"df-729260d5-dbdd-4740-8a55-1270cfc2bf90\" class=\"colab-df-container\">\n",
              "    <div>\n",
              "<style scoped>\n",
              "    .dataframe tbody tr th:only-of-type {\n",
              "        vertical-align: middle;\n",
              "    }\n",
              "\n",
              "    .dataframe tbody tr th {\n",
              "        vertical-align: top;\n",
              "    }\n",
              "\n",
              "    .dataframe thead th {\n",
              "        text-align: right;\n",
              "    }\n",
              "</style>\n",
              "<table border=\"1\" class=\"dataframe\">\n",
              "  <thead>\n",
              "    <tr style=\"text-align: right;\">\n",
              "      <th></th>\n",
              "      <th>sentence</th>\n",
              "      <th>word</th>\n",
              "      <th>lemma</th>\n",
              "      <th>pos</th>\n",
              "      <th>label</th>\n",
              "    </tr>\n",
              "  </thead>\n",
              "  <tbody>\n",
              "    <tr>\n",
              "      <th>0</th>\n",
              "      <td>1</td>\n",
              "      <td>All</td>\n",
              "      <td>all</td>\n",
              "      <td>PRON</td>\n",
              "      <td>O</td>\n",
              "    </tr>\n",
              "    <tr>\n",
              "      <th>1</th>\n",
              "      <td>1</td>\n",
              "      <td>live</td>\n",
              "      <td>live</td>\n",
              "      <td>VERB</td>\n",
              "      <td>O</td>\n",
              "    </tr>\n",
              "    <tr>\n",
              "      <th>2</th>\n",
              "      <td>1</td>\n",
              "      <td>births</td>\n",
              "      <td>birth</td>\n",
              "      <td>NOUN</td>\n",
              "      <td>O</td>\n",
              "    </tr>\n",
              "    <tr>\n",
              "      <th>3</th>\n",
              "      <td>1</td>\n",
              "      <td>&gt;</td>\n",
              "      <td>&gt;</td>\n",
              "      <td>PUNCT</td>\n",
              "      <td>O</td>\n",
              "    </tr>\n",
              "    <tr>\n",
              "      <th>4</th>\n",
              "      <td>1</td>\n",
              "      <td>or</td>\n",
              "      <td>or</td>\n",
              "      <td>CCONJ</td>\n",
              "      <td>O</td>\n",
              "    </tr>\n",
              "    <tr>\n",
              "      <th>...</th>\n",
              "      <td>...</td>\n",
              "      <td>...</td>\n",
              "      <td>...</td>\n",
              "      <td>...</td>\n",
              "      <td>...</td>\n",
              "    </tr>\n",
              "    <tr>\n",
              "      <th>85</th>\n",
              "      <td>4</td>\n",
              "      <td>The</td>\n",
              "      <td>the</td>\n",
              "      <td>PRON</td>\n",
              "      <td>O</td>\n",
              "    </tr>\n",
              "    <tr>\n",
              "      <th>86</th>\n",
              "      <td>4</td>\n",
              "      <td>`</td>\n",
              "      <td>`</td>\n",
              "      <td>PUNCT</td>\n",
              "      <td>O</td>\n",
              "    </tr>\n",
              "    <tr>\n",
              "      <th>87</th>\n",
              "      <td>4</td>\n",
              "      <td>`</td>\n",
              "      <td>`</td>\n",
              "      <td>PUNCT</td>\n",
              "      <td>O</td>\n",
              "    </tr>\n",
              "    <tr>\n",
              "      <th>88</th>\n",
              "      <td>4</td>\n",
              "      <td>corrected</td>\n",
              "      <td>correct</td>\n",
              "      <td>VERB</td>\n",
              "      <td>O</td>\n",
              "    </tr>\n",
              "    <tr>\n",
              "      <th>89</th>\n",
              "      <td>4</td>\n",
              "      <td>''</td>\n",
              "      <td>''</td>\n",
              "      <td>PUNCT</td>\n",
              "      <td>O</td>\n",
              "    </tr>\n",
              "  </tbody>\n",
              "</table>\n",
              "<p>90 rows × 5 columns</p>\n",
              "</div>\n",
              "    <div class=\"colab-df-buttons\">\n",
              "\n",
              "  <div class=\"colab-df-container\">\n",
              "    <button class=\"colab-df-convert\" onclick=\"convertToInteractive('df-729260d5-dbdd-4740-8a55-1270cfc2bf90')\"\n",
              "            title=\"Convert this dataframe to an interactive table.\"\n",
              "            style=\"display:none;\">\n",
              "\n",
              "  <svg xmlns=\"http://www.w3.org/2000/svg\" height=\"24px\" viewBox=\"0 -960 960 960\">\n",
              "    <path d=\"M120-120v-720h720v720H120Zm60-500h600v-160H180v160Zm220 220h160v-160H400v160Zm0 220h160v-160H400v160ZM180-400h160v-160H180v160Zm440 0h160v-160H620v160ZM180-180h160v-160H180v160Zm440 0h160v-160H620v160Z\"/>\n",
              "  </svg>\n",
              "    </button>\n",
              "\n",
              "  <style>\n",
              "    .colab-df-container {\n",
              "      display:flex;\n",
              "      gap: 12px;\n",
              "    }\n",
              "\n",
              "    .colab-df-convert {\n",
              "      background-color: #E8F0FE;\n",
              "      border: none;\n",
              "      border-radius: 50%;\n",
              "      cursor: pointer;\n",
              "      display: none;\n",
              "      fill: #1967D2;\n",
              "      height: 32px;\n",
              "      padding: 0 0 0 0;\n",
              "      width: 32px;\n",
              "    }\n",
              "\n",
              "    .colab-df-convert:hover {\n",
              "      background-color: #E2EBFA;\n",
              "      box-shadow: 0px 1px 2px rgba(60, 64, 67, 0.3), 0px 1px 3px 1px rgba(60, 64, 67, 0.15);\n",
              "      fill: #174EA6;\n",
              "    }\n",
              "\n",
              "    .colab-df-buttons div {\n",
              "      margin-bottom: 4px;\n",
              "    }\n",
              "\n",
              "    [theme=dark] .colab-df-convert {\n",
              "      background-color: #3B4455;\n",
              "      fill: #D2E3FC;\n",
              "    }\n",
              "\n",
              "    [theme=dark] .colab-df-convert:hover {\n",
              "      background-color: #434B5C;\n",
              "      box-shadow: 0px 1px 3px 1px rgba(0, 0, 0, 0.15);\n",
              "      filter: drop-shadow(0px 1px 2px rgba(0, 0, 0, 0.3));\n",
              "      fill: #FFFFFF;\n",
              "    }\n",
              "  </style>\n",
              "\n",
              "    <script>\n",
              "      const buttonEl =\n",
              "        document.querySelector('#df-729260d5-dbdd-4740-8a55-1270cfc2bf90 button.colab-df-convert');\n",
              "      buttonEl.style.display =\n",
              "        google.colab.kernel.accessAllowed ? 'block' : 'none';\n",
              "\n",
              "      async function convertToInteractive(key) {\n",
              "        const element = document.querySelector('#df-729260d5-dbdd-4740-8a55-1270cfc2bf90');\n",
              "        const dataTable =\n",
              "          await google.colab.kernel.invokeFunction('convertToInteractive',\n",
              "                                                    [key], {});\n",
              "        if (!dataTable) return;\n",
              "\n",
              "        const docLinkHtml = 'Like what you see? Visit the ' +\n",
              "          '<a target=\"_blank\" href=https://colab.research.google.com/notebooks/data_table.ipynb>data table notebook</a>'\n",
              "          + ' to learn more about interactive tables.';\n",
              "        element.innerHTML = '';\n",
              "        dataTable['output_type'] = 'display_data';\n",
              "        await google.colab.output.renderOutput(dataTable, element);\n",
              "        const docLink = document.createElement('div');\n",
              "        docLink.innerHTML = docLinkHtml;\n",
              "        element.appendChild(docLink);\n",
              "      }\n",
              "    </script>\n",
              "  </div>\n",
              "\n",
              "\n",
              "<div id=\"df-2cddfc40-29e1-40f5-b2f5-48d46ede0d21\">\n",
              "  <button class=\"colab-df-quickchart\" onclick=\"quickchart('df-2cddfc40-29e1-40f5-b2f5-48d46ede0d21')\"\n",
              "            title=\"Suggest charts\"\n",
              "            style=\"display:none;\">\n",
              "\n",
              "<svg xmlns=\"http://www.w3.org/2000/svg\" height=\"24px\"viewBox=\"0 0 24 24\"\n",
              "     width=\"24px\">\n",
              "    <g>\n",
              "        <path d=\"M19 3H5c-1.1 0-2 .9-2 2v14c0 1.1.9 2 2 2h14c1.1 0 2-.9 2-2V5c0-1.1-.9-2-2-2zM9 17H7v-7h2v7zm4 0h-2V7h2v10zm4 0h-2v-4h2v4z\"/>\n",
              "    </g>\n",
              "</svg>\n",
              "  </button>\n",
              "\n",
              "<style>\n",
              "  .colab-df-quickchart {\n",
              "      --bg-color: #E8F0FE;\n",
              "      --fill-color: #1967D2;\n",
              "      --hover-bg-color: #E2EBFA;\n",
              "      --hover-fill-color: #174EA6;\n",
              "      --disabled-fill-color: #AAA;\n",
              "      --disabled-bg-color: #DDD;\n",
              "  }\n",
              "\n",
              "  [theme=dark] .colab-df-quickchart {\n",
              "      --bg-color: #3B4455;\n",
              "      --fill-color: #D2E3FC;\n",
              "      --hover-bg-color: #434B5C;\n",
              "      --hover-fill-color: #FFFFFF;\n",
              "      --disabled-bg-color: #3B4455;\n",
              "      --disabled-fill-color: #666;\n",
              "  }\n",
              "\n",
              "  .colab-df-quickchart {\n",
              "    background-color: var(--bg-color);\n",
              "    border: none;\n",
              "    border-radius: 50%;\n",
              "    cursor: pointer;\n",
              "    display: none;\n",
              "    fill: var(--fill-color);\n",
              "    height: 32px;\n",
              "    padding: 0;\n",
              "    width: 32px;\n",
              "  }\n",
              "\n",
              "  .colab-df-quickchart:hover {\n",
              "    background-color: var(--hover-bg-color);\n",
              "    box-shadow: 0 1px 2px rgba(60, 64, 67, 0.3), 0 1px 3px 1px rgba(60, 64, 67, 0.15);\n",
              "    fill: var(--button-hover-fill-color);\n",
              "  }\n",
              "\n",
              "  .colab-df-quickchart-complete:disabled,\n",
              "  .colab-df-quickchart-complete:disabled:hover {\n",
              "    background-color: var(--disabled-bg-color);\n",
              "    fill: var(--disabled-fill-color);\n",
              "    box-shadow: none;\n",
              "  }\n",
              "\n",
              "  .colab-df-spinner {\n",
              "    border: 2px solid var(--fill-color);\n",
              "    border-color: transparent;\n",
              "    border-bottom-color: var(--fill-color);\n",
              "    animation:\n",
              "      spin 1s steps(1) infinite;\n",
              "  }\n",
              "\n",
              "  @keyframes spin {\n",
              "    0% {\n",
              "      border-color: transparent;\n",
              "      border-bottom-color: var(--fill-color);\n",
              "      border-left-color: var(--fill-color);\n",
              "    }\n",
              "    20% {\n",
              "      border-color: transparent;\n",
              "      border-left-color: var(--fill-color);\n",
              "      border-top-color: var(--fill-color);\n",
              "    }\n",
              "    30% {\n",
              "      border-color: transparent;\n",
              "      border-left-color: var(--fill-color);\n",
              "      border-top-color: var(--fill-color);\n",
              "      border-right-color: var(--fill-color);\n",
              "    }\n",
              "    40% {\n",
              "      border-color: transparent;\n",
              "      border-right-color: var(--fill-color);\n",
              "      border-top-color: var(--fill-color);\n",
              "    }\n",
              "    60% {\n",
              "      border-color: transparent;\n",
              "      border-right-color: var(--fill-color);\n",
              "    }\n",
              "    80% {\n",
              "      border-color: transparent;\n",
              "      border-right-color: var(--fill-color);\n",
              "      border-bottom-color: var(--fill-color);\n",
              "    }\n",
              "    90% {\n",
              "      border-color: transparent;\n",
              "      border-bottom-color: var(--fill-color);\n",
              "    }\n",
              "  }\n",
              "</style>\n",
              "\n",
              "  <script>\n",
              "    async function quickchart(key) {\n",
              "      const quickchartButtonEl =\n",
              "        document.querySelector('#' + key + ' button');\n",
              "      quickchartButtonEl.disabled = true;  // To prevent multiple clicks.\n",
              "      quickchartButtonEl.classList.add('colab-df-spinner');\n",
              "      try {\n",
              "        const charts = await google.colab.kernel.invokeFunction(\n",
              "            'suggestCharts', [key], {});\n",
              "      } catch (error) {\n",
              "        console.error('Error during call to suggestCharts:', error);\n",
              "      }\n",
              "      quickchartButtonEl.classList.remove('colab-df-spinner');\n",
              "      quickchartButtonEl.classList.add('colab-df-quickchart-complete');\n",
              "    }\n",
              "    (() => {\n",
              "      let quickchartButtonEl =\n",
              "        document.querySelector('#df-2cddfc40-29e1-40f5-b2f5-48d46ede0d21 button');\n",
              "      quickchartButtonEl.style.display =\n",
              "        google.colab.kernel.accessAllowed ? 'block' : 'none';\n",
              "    })();\n",
              "  </script>\n",
              "</div>\n",
              "\n",
              "    </div>\n",
              "  </div>\n"
            ],
            "application/vnd.google.colaboratory.intrinsic+json": {
              "type": "dataframe",
              "variable_name": "train_df",
              "summary": "{\n  \"name\": \"train_df\",\n  \"rows\": 48324,\n  \"fields\": [\n    {\n      \"column\": \"sentence\",\n      \"properties\": {\n        \"dtype\": \"date\",\n        \"min\": 1,\n        \"max\": 2599,\n        \"num_unique_values\": 2599,\n        \"samples\": [\n          1594,\n          197,\n          240\n        ],\n        \"semantic_type\": \"\",\n        \"description\": \"\"\n      }\n    },\n    {\n      \"column\": \"word\",\n      \"properties\": {\n        \"dtype\": \"category\",\n        \"num_unique_values\": 8978,\n        \"samples\": [\n          \"orf31\",\n          \"groups\",\n          \"Olanzapine\"\n        ],\n        \"semantic_type\": \"\",\n        \"description\": \"\"\n      }\n    },\n    {\n      \"column\": \"lemma\",\n      \"properties\": {\n        \"dtype\": \"category\",\n        \"num_unique_values\": 7103,\n        \"samples\": [\n          \"77\",\n          \"colorimetric\",\n          \"carboxylate\"\n        ],\n        \"semantic_type\": \"\",\n        \"description\": \"\"\n      }\n    },\n    {\n      \"column\": \"pos\",\n      \"properties\": {\n        \"dtype\": \"category\",\n        \"num_unique_values\": 17,\n        \"samples\": [\n          \"PRON\",\n          \"VERB\",\n          \"NUM\"\n        ],\n        \"semantic_type\": \"\",\n        \"description\": \"\"\n      }\n    },\n    {\n      \"column\": \"label\",\n      \"properties\": {\n        \"dtype\": \"category\",\n        \"num_unique_values\": 3,\n        \"samples\": [\n          \"O\",\n          \"D\",\n          \"T\"\n        ],\n        \"semantic_type\": \"\",\n        \"description\": \"\"\n      }\n    }\n  ]\n}"
            }
          },
          "metadata": {},
          "execution_count": 23
        }
      ]
    },
    {
      "cell_type": "code",
      "source": [
        "test_df.head(5)"
      ],
      "metadata": {
        "id": "jSqpWnmHejMp"
      },
      "execution_count": null,
      "outputs": []
    },
    {
      "cell_type": "code",
      "source": [
        "# Sentense-wise detail dataframe preparation\n",
        "# Fetch detail view of sentence for train set\n",
        "train_sent_obj = sentencedetail(train_df)\n",
        "train_sent_detail = train_sent_obj.sentences"
      ],
      "metadata": {
        "id": "bTprLrD9e6JS"
      },
      "execution_count": null,
      "outputs": []
    },
    {
      "cell_type": "code",
      "source": [
        "# A class to retrieve the sentences details from the dataframe\n",
        "class sentencedetail(object):\n",
        "    def __init__(self, data):\n",
        "        self.data = data\n",
        "        self.empty = False\n",
        "        agg_func = lambda s: [(w, p, l) for w, p, l in zip(s[\"word\"].values.tolist(), s[\"pos\"].values.tolist(),s[\"label\"].values.tolist())]\n",
        "        self.grouped = self.data.groupby(\"sentence\").apply(agg_func)\n",
        "        self.sentences = [s for s in self.grouped]"
      ],
      "metadata": {
        "id": "YC3MNJoWfSoC"
      },
      "execution_count": null,
      "outputs": []
    }
  ]
}